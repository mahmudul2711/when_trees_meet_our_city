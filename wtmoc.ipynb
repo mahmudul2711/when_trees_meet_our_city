{
  "nbformat": 4,
  "nbformat_minor": 0,
  "metadata": {
    "colab": {
      "name": "wtmoc.ipynb",
      "provenance": [],
      "authorship_tag": "ABX9TyNxoCk/Aczr2Jx25ZpMF8QO",
      "include_colab_link": true
    },
    "kernelspec": {
      "name": "python3",
      "display_name": "Python 3"
    },
    "language_info": {
      "name": "python"
    }
  },
  "cells": [
    {
      "cell_type": "markdown",
      "metadata": {
        "id": "view-in-github",
        "colab_type": "text"
      },
      "source": [
        "<a href=\"https://colab.research.google.com/github/mahmudul2711/when_trees_meet_our_city/blob/main/wtmoc.ipynb\" target=\"_parent\"><img src=\"https://colab.research.google.com/assets/colab-badge.svg\" alt=\"Open In Colab\"/></a>"
      ]
    },
    {
      "cell_type": "code",
      "metadata": {
        "colab": {
          "base_uri": "https://localhost:8080/"
        },
        "id": "29-vRz2o3Iji",
        "outputId": "dd6ccb88-7b29-400f-f7e5-14146083c84e"
      },
      "source": [
        "from google.colab import drive\n",
        "drive.mount('/content/gdrive')\n"
      ],
      "execution_count": 1,
      "outputs": [
        {
          "output_type": "stream",
          "text": [
            "Mounted at /content/gdrive\n"
          ],
          "name": "stdout"
        }
      ]
    },
    {
      "cell_type": "code",
      "metadata": {
        "id": "OB6KQrA541dn"
      },
      "source": [
        "import pandas as pd"
      ],
      "execution_count": 2,
      "outputs": []
    },
    {
      "cell_type": "code",
      "metadata": {
        "id": "YUyBforZ4_pX"
      },
      "source": [
        "wtmoc = pd.read_csv('gdrive/My Drive/Colab Notebooks/project/prjectai1 - prjectai1.csv')"
      ],
      "execution_count": 3,
      "outputs": []
    },
    {
      "cell_type": "markdown",
      "metadata": {
        "id": "nFQKgCUN5QNv"
      },
      "source": [
        "Show Dataset"
      ]
    },
    {
      "cell_type": "code",
      "metadata": {
        "colab": {
          "base_uri": "https://localhost:8080/",
          "height": 195
        },
        "id": "I980TdO05RBX",
        "outputId": "21f7a79c-7a09-493c-ce45-dbd20d0b1340"
      },
      "source": [
        "wtmoc.head()"
      ],
      "execution_count": 4,
      "outputs": [
        {
          "output_type": "execute_result",
          "data": {
            "text/html": [
              "<div>\n",
              "<style scoped>\n",
              "    .dataframe tbody tr th:only-of-type {\n",
              "        vertical-align: middle;\n",
              "    }\n",
              "\n",
              "    .dataframe tbody tr th {\n",
              "        vertical-align: top;\n",
              "    }\n",
              "\n",
              "    .dataframe thead th {\n",
              "        text-align: right;\n",
              "    }\n",
              "</style>\n",
              "<table border=\"1\" class=\"dataframe\">\n",
              "  <thead>\n",
              "    <tr style=\"text-align: right;\">\n",
              "      <th></th>\n",
              "      <th>Timestamp</th>\n",
              "      <th>Name</th>\n",
              "      <th>Gender</th>\n",
              "      <th>Age</th>\n",
              "      <th>Address</th>\n",
              "      <th>profession</th>\n",
              "      <th>willing</th>\n",
              "      <th>choice</th>\n",
              "    </tr>\n",
              "  </thead>\n",
              "  <tbody>\n",
              "    <tr>\n",
              "      <th>0</th>\n",
              "      <td>28/03/2021 20:18:58</td>\n",
              "      <td>Shahid Monowar</td>\n",
              "      <td>Male</td>\n",
              "      <td>20-30</td>\n",
              "      <td>Town</td>\n",
              "      <td>Student</td>\n",
              "      <td>0.0</td>\n",
              "      <td>0.0</td>\n",
              "    </tr>\n",
              "    <tr>\n",
              "      <th>1</th>\n",
              "      <td>28/03/2021 20:26:22</td>\n",
              "      <td>Jahirul Islam</td>\n",
              "      <td>Male</td>\n",
              "      <td>20-30</td>\n",
              "      <td>Town</td>\n",
              "      <td>Student</td>\n",
              "      <td>1.0</td>\n",
              "      <td>1.0</td>\n",
              "    </tr>\n",
              "    <tr>\n",
              "      <th>2</th>\n",
              "      <td>28/03/2021 20:28:42</td>\n",
              "      <td>Kalpana akter</td>\n",
              "      <td>Female</td>\n",
              "      <td>20-30</td>\n",
              "      <td>Major city</td>\n",
              "      <td>Student</td>\n",
              "      <td>0.0</td>\n",
              "      <td>0.0</td>\n",
              "    </tr>\n",
              "    <tr>\n",
              "      <th>3</th>\n",
              "      <td>28/03/2021 20:29:23</td>\n",
              "      <td>Nitu</td>\n",
              "      <td>Female</td>\n",
              "      <td>20-30</td>\n",
              "      <td>Town</td>\n",
              "      <td>Student</td>\n",
              "      <td>1.0</td>\n",
              "      <td>0.0</td>\n",
              "    </tr>\n",
              "    <tr>\n",
              "      <th>4</th>\n",
              "      <td>28/03/2021 21:05:52</td>\n",
              "      <td>Mishu</td>\n",
              "      <td>Female</td>\n",
              "      <td>20-30</td>\n",
              "      <td>Town</td>\n",
              "      <td>Student</td>\n",
              "      <td>1.0</td>\n",
              "      <td>1.0</td>\n",
              "    </tr>\n",
              "  </tbody>\n",
              "</table>\n",
              "</div>"
            ],
            "text/plain": [
              "             Timestamp            Name  Gender  ...  profession willing choice\n",
              "0  28/03/2021 20:18:58  Shahid Monowar    Male  ...     Student     0.0    0.0\n",
              "1  28/03/2021 20:26:22   Jahirul Islam    Male  ...     Student     1.0    1.0\n",
              "2  28/03/2021 20:28:42   Kalpana akter  Female  ...     Student     0.0    0.0\n",
              "3  28/03/2021 20:29:23            Nitu  Female  ...     Student     1.0    0.0\n",
              "4  28/03/2021 21:05:52           Mishu  Female  ...     Student     1.0    1.0\n",
              "\n",
              "[5 rows x 8 columns]"
            ]
          },
          "metadata": {
            "tags": []
          },
          "execution_count": 4
        }
      ]
    },
    {
      "cell_type": "markdown",
      "metadata": {
        "id": "oW1gYfd15Zgv"
      },
      "source": [
        "show shape"
      ]
    },
    {
      "cell_type": "code",
      "metadata": {
        "colab": {
          "base_uri": "https://localhost:8080/"
        },
        "id": "SbeS6o965XRX",
        "outputId": "e95b819f-3c51-4cf2-95f6-2c2791c61123"
      },
      "source": [
        "wtmoc.shape"
      ],
      "execution_count": 5,
      "outputs": [
        {
          "output_type": "execute_result",
          "data": {
            "text/plain": [
              "(999, 8)"
            ]
          },
          "metadata": {
            "tags": []
          },
          "execution_count": 5
        }
      ]
    },
    {
      "cell_type": "markdown",
      "metadata": {
        "id": "TW0Eybmc5hmH"
      },
      "source": [
        "show all information with missing value"
      ]
    },
    {
      "cell_type": "code",
      "metadata": {
        "colab": {
          "base_uri": "https://localhost:8080/"
        },
        "id": "V3io8BpW5juv",
        "outputId": "245c4008-3358-4aa0-f474-67f202c1a1d8"
      },
      "source": [
        "wtmoc.info()"
      ],
      "execution_count": 6,
      "outputs": [
        {
          "output_type": "stream",
          "text": [
            "<class 'pandas.core.frame.DataFrame'>\n",
            "RangeIndex: 999 entries, 0 to 998\n",
            "Data columns (total 8 columns):\n",
            " #   Column       Non-Null Count  Dtype  \n",
            "---  ------       --------------  -----  \n",
            " 0   Timestamp    29 non-null     object \n",
            " 1   Name         999 non-null    object \n",
            " 2   Gender       999 non-null    object \n",
            " 3   Age          999 non-null    object \n",
            " 4   Address      998 non-null    object \n",
            " 5    profession  999 non-null    object \n",
            " 6   willing      998 non-null    float64\n",
            " 7   choice       993 non-null    float64\n",
            "dtypes: float64(2), object(6)\n",
            "memory usage: 62.6+ KB\n"
          ],
          "name": "stdout"
        }
      ]
    },
    {
      "cell_type": "code",
      "metadata": {
        "colab": {
          "base_uri": "https://localhost:8080/"
        },
        "id": "Nn79UwRw5maf",
        "outputId": "4a223666-4d47-465a-c234-6d4c88bbef40"
      },
      "source": [
        "wtmoc.isnull().sum()"
      ],
      "execution_count": 7,
      "outputs": [
        {
          "output_type": "execute_result",
          "data": {
            "text/plain": [
              "Timestamp      970\n",
              "Name             0\n",
              "Gender           0\n",
              "Age              0\n",
              "Address          1\n",
              " profession      0\n",
              "willing          1\n",
              "choice           6\n",
              "dtype: int64"
            ]
          },
          "metadata": {
            "tags": []
          },
          "execution_count": 7
        }
      ]
    },
    {
      "cell_type": "markdown",
      "metadata": {
        "id": "bvm8Zdr95q9Y"
      },
      "source": [
        "Import library for data visualization\n"
      ]
    },
    {
      "cell_type": "code",
      "metadata": {
        "id": "dwb-n4H15qke"
      },
      "source": [
        "import matplotlib.pyplot as plt\n",
        "%matplotlib inline\n",
        "import seaborn as sns\n",
        "sns.set()\n"
      ],
      "execution_count": 8,
      "outputs": []
    },
    {
      "cell_type": "markdown",
      "metadata": {
        "id": "j2q7z0iI5x13"
      },
      "source": [
        "Create a function for showing the graph"
      ]
    },
    {
      "cell_type": "code",
      "metadata": {
        "id": "NFNQ5LyJ5yif"
      },
      "source": [
        "def bar_chart(feature):\n",
        "  plant = wtmoc[wtmoc['choice']==1][feature].value_counts()\n",
        "  flower = wtmoc[wtmoc['choice']==0][feature].value_counts()\n",
        "  df = pd.DataFrame([plant,flower])\n",
        "  df.index = ['Plant','Flower']\n",
        "  df.plot(kind = 'bar',stacked=True, figsize=(10,5))\n"
      ],
      "execution_count": 9,
      "outputs": []
    },
    {
      "cell_type": "code",
      "metadata": {
        "colab": {
          "base_uri": "https://localhost:8080/",
          "height": 349
        },
        "id": "odyk0TgJ6hOI",
        "outputId": "e50270a3-2c2e-4481-e2ca-86a68c3ef1db"
      },
      "source": [
        "bar_chart('choice')"
      ],
      "execution_count": 13,
      "outputs": [
        {
          "output_type": "display_data",
          "data": {
            "image/png": "[encoded data removed]",
            "text/plain": [
              "<Figure size 720x360 with 1 Axes>"
            ]
          },
          "metadata": {
            "tags": []
          }
        }
      ]
    },
    {
      "cell_type": "code",
      "metadata": {
        "id": "djmrLrla7Iu3"
      },
      "source": [
        "def bar_chart(feature):\n",
        "  yes = wtmoc[wtmoc['willing']==1][feature].value_counts()\n",
        "  no = wtmoc[wtmoc['willing']==0][feature].value_counts()\n",
        "  df = pd.DataFrame([yes,no])\n",
        "  df.index = ['Yes','No']\n",
        "  df.plot(kind = 'bar',stacked=True, figsize=(10,5))"
      ],
      "execution_count": 14,
      "outputs": []
    },
    {
      "cell_type": "code",
      "metadata": {
        "colab": {
          "base_uri": "https://localhost:8080/",
          "height": 330
        },
        "id": "YA2Y35Ov7cRH",
        "outputId": "9d44ce61-81e2-454a-e224-72ecf3d37817"
      },
      "source": [
        "bar_chart('willing')"
      ],
      "execution_count": 15,
      "outputs": [
        {
          "output_type": "display_data",
          "data": {
            "image/png": "[encoded data removed]",
            "text/plain": [
              "<Figure size 720x360 with 1 Axes>"
            ]
          },
          "metadata": {
            "tags": []
          }
        }
      ]
    },
    {
      "cell_type": "code",
      "metadata": {
        "colab": {
          "base_uri": "https://localhost:8080/",
          "height": 279
        },
        "id": "rE9mMjiv7saw",
        "outputId": "b3e0dfaa-4516-4882-adfe-120448360c67"
      },
      "source": [
        "wtmoc.head()"
      ],
      "execution_count": 16,
      "outputs": [
        {
          "output_type": "execute_result",
          "data": {
            "text/html": [
              "<div>\n",
              "<style scoped>\n",
              "    .dataframe tbody tr th:only-of-type {\n",
              "        vertical-align: middle;\n",
              "    }\n",
              "\n",
              "    .dataframe tbody tr th {\n",
              "        vertical-align: top;\n",
              "    }\n",
              "\n",
              "    .dataframe thead th {\n",
              "        text-align: right;\n",
              "    }\n",
              "</style>\n",
              "<table border=\"1\" class=\"dataframe\">\n",
              "  <thead>\n",
              "    <tr style=\"text-align: right;\">\n",
              "      <th></th>\n",
              "      <th>Timestamp</th>\n",
              "      <th>Name</th>\n",
              "      <th>Gender</th>\n",
              "      <th>Age</th>\n",
              "      <th>Address</th>\n",
              "      <th>profession</th>\n",
              "      <th>willing</th>\n",
              "      <th>choice</th>\n",
              "    </tr>\n",
              "  </thead>\n",
              "  <tbody>\n",
              "    <tr>\n",
              "      <th>0</th>\n",
              "      <td>28/03/2021 20:18:58</td>\n",
              "      <td>Shahid Monowar</td>\n",
              "      <td>Male</td>\n",
              "      <td>20-30</td>\n",
              "      <td>Town</td>\n",
              "      <td>Student</td>\n",
              "      <td>0.0</td>\n",
              "      <td>0.0</td>\n",
              "    </tr>\n",
              "    <tr>\n",
              "      <th>1</th>\n",
              "      <td>28/03/2021 20:26:22</td>\n",
              "      <td>Jahirul Islam</td>\n",
              "      <td>Male</td>\n",
              "      <td>20-30</td>\n",
              "      <td>Town</td>\n",
              "      <td>Student</td>\n",
              "      <td>1.0</td>\n",
              "      <td>1.0</td>\n",
              "    </tr>\n",
              "    <tr>\n",
              "      <th>2</th>\n",
              "      <td>28/03/2021 20:28:42</td>\n",
              "      <td>Kalpana akter</td>\n",
              "      <td>Female</td>\n",
              "      <td>20-30</td>\n",
              "      <td>Major city</td>\n",
              "      <td>Student</td>\n",
              "      <td>0.0</td>\n",
              "      <td>0.0</td>\n",
              "    </tr>\n",
              "    <tr>\n",
              "      <th>3</th>\n",
              "      <td>28/03/2021 20:29:23</td>\n",
              "      <td>Nitu</td>\n",
              "      <td>Female</td>\n",
              "      <td>20-30</td>\n",
              "      <td>Town</td>\n",
              "      <td>Student</td>\n",
              "      <td>1.0</td>\n",
              "      <td>0.0</td>\n",
              "    </tr>\n",
              "    <tr>\n",
              "      <th>4</th>\n",
              "      <td>28/03/2021 21:05:52</td>\n",
              "      <td>Mishu</td>\n",
              "      <td>Female</td>\n",
              "      <td>20-30</td>\n",
              "      <td>Town</td>\n",
              "      <td>Student</td>\n",
              "      <td>1.0</td>\n",
              "      <td>1.0</td>\n",
              "    </tr>\n",
              "  </tbody>\n",
              "</table>\n",
              "</div>"
            ],
            "text/plain": [
              "             Timestamp            Name  Gender  ...  profession willing choice\n",
              "0  28/03/2021 20:18:58  Shahid Monowar    Male  ...     Student     0.0    0.0\n",
              "1  28/03/2021 20:26:22   Jahirul Islam    Male  ...     Student     1.0    1.0\n",
              "2  28/03/2021 20:28:42   Kalpana akter  Female  ...     Student     0.0    0.0\n",
              "3  28/03/2021 20:29:23            Nitu  Female  ...     Student     1.0    0.0\n",
              "4  28/03/2021 21:05:52           Mishu  Female  ...     Student     1.0    1.0\n",
              "\n",
              "[5 rows x 8 columns]"
            ]
          },
          "metadata": {
            "tags": []
          },
          "execution_count": 16
        }
      ]
    }
  ]
}