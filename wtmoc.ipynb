{
  "nbformat": 4,
  "nbformat_minor": 0,
  "metadata": {
    "colab": {
      "name": "wtmoc.ipynb",
      "provenance": [],
      "collapsed_sections": [],
      "authorship_tag": "ABX9TyP4xqQql2yj14Ye0xP6TOXB",
      "include_colab_link": true
    },
    "kernelspec": {
      "name": "python3",
      "display_name": "Python 3"
    },
    "language_info": {
      "name": "python"
    }
  },
  "cells": [
    {
      "cell_type": "markdown",
      "metadata": {
        "id": "view-in-github",
        "colab_type": "text"
      },
      "source": [
        "<a href=\"https://colab.research.google.com/github/mahmudul2711/mahmud/blob/main/wtmoc.ipynb\" target=\"_parent\"><img src=\"https://colab.research.google.com/assets/colab-badge.svg\" alt=\"Open In Colab\"/></a>"
      ]
    },
    {
      "cell_type": "markdown",
      "metadata": {
        "id": "8ZY8apGIuFZF"
      },
      "source": [
        "Mount Drive and Read Dataset\n",
        "\n"
      ]
    },
    {
      "cell_type": "code",
      "metadata": {
        "colab": {
          "base_uri": "https://localhost:8080/"
        },
        "id": "cY-CX3Xctnz5",
        "outputId": "2d6c882e-1065-4f77-dbc3-d5ff53c6faa1"
      },
      "source": [
        "from google.colab import drive\n",
        "drive.mount('/content/gdrive')"
      ],
      "execution_count": 1,
      "outputs": [
        {
          "output_type": "stream",
          "text": [
            "Mounted at /content/gdrive\n"
          ],
          "name": "stdout"
        }
      ]
    },
    {
      "cell_type": "code",
      "metadata": {
        "id": "9g5dhCUNvVZt"
      },
      "source": [
        "import pandas as pd"
      ],
      "execution_count": 2,
      "outputs": []
    },
    {
      "cell_type": "code",
      "metadata": {
        "id": "GVQgVUXXviMu"
      },
      "source": [
        "wtmoc = pd.read_csv('gdrive/My Drive/Colab Notebooks/project/prjectai.csv')"
      ],
      "execution_count": 4,
      "outputs": []
    },
    {
      "cell_type": "markdown",
      "metadata": {
        "id": "sJatDK90wu8N"
      },
      "source": [
        "Show Dataset"
      ]
    },
    {
      "cell_type": "code",
      "metadata": {
        "colab": {
          "base_uri": "https://localhost:8080/",
          "height": 296
        },
        "id": "Gm6juUinwzRf",
        "outputId": "0258877e-2623-4486-8690-9cb514b44df4"
      },
      "source": [
        "wtmoc.head()"
      ],
      "execution_count": 5,
      "outputs": [
        {
          "output_type": "execute_result",
          "data": {
            "text/html": [
              "<div>\n",
              "<style scoped>\n",
              "    .dataframe tbody tr th:only-of-type {\n",
              "        vertical-align: middle;\n",
              "    }\n",
              "\n",
              "    .dataframe tbody tr th {\n",
              "        vertical-align: top;\n",
              "    }\n",
              "\n",
              "    .dataframe thead th {\n",
              "        text-align: right;\n",
              "    }\n",
              "</style>\n",
              "<table border=\"1\" class=\"dataframe\">\n",
              "  <thead>\n",
              "    <tr style=\"text-align: right;\">\n",
              "      <th></th>\n",
              "      <th>Timestamp</th>\n",
              "      <th>Name</th>\n",
              "      <th>Gender</th>\n",
              "      <th>How old are you?</th>\n",
              "      <th>Where do you living?</th>\n",
              "      <th>What is your profession?</th>\n",
              "      <th>Are you willing to decorate your building or apartment with natural equipment like shrubs and plants?</th>\n",
              "      <th>Which would you like to decorate?</th>\n",
              "    </tr>\n",
              "  </thead>\n",
              "  <tbody>\n",
              "    <tr>\n",
              "      <th>0</th>\n",
              "      <td>28/03/2021 20:18:58</td>\n",
              "      <td>Shahid Monowar</td>\n",
              "      <td>Male</td>\n",
              "      <td>20-30</td>\n",
              "      <td>Town</td>\n",
              "      <td>Student</td>\n",
              "      <td>yes</td>\n",
              "      <td>Flowering plant</td>\n",
              "    </tr>\n",
              "    <tr>\n",
              "      <th>1</th>\n",
              "      <td>28/03/2021 20:26:22</td>\n",
              "      <td>Jahirul Islam</td>\n",
              "      <td>Male</td>\n",
              "      <td>20-30</td>\n",
              "      <td>Town</td>\n",
              "      <td>Student</td>\n",
              "      <td>I don't have any apartment</td>\n",
              "      <td>shrubs</td>\n",
              "    </tr>\n",
              "    <tr>\n",
              "      <th>2</th>\n",
              "      <td>28/03/2021 20:28:42</td>\n",
              "      <td>Kalpana akter</td>\n",
              "      <td>Female</td>\n",
              "      <td>20-30</td>\n",
              "      <td>Major city</td>\n",
              "      <td>Student</td>\n",
              "      <td>yes</td>\n",
              "      <td>Flowering plant</td>\n",
              "    </tr>\n",
              "    <tr>\n",
              "      <th>3</th>\n",
              "      <td>28/03/2021 20:29:23</td>\n",
              "      <td>Nitu</td>\n",
              "      <td>Female</td>\n",
              "      <td>20-30</td>\n",
              "      <td>Town</td>\n",
              "      <td>Student</td>\n",
              "      <td>yes</td>\n",
              "      <td>Flowering plant</td>\n",
              "    </tr>\n",
              "    <tr>\n",
              "      <th>4</th>\n",
              "      <td>28/03/2021 21:05:52</td>\n",
              "      <td>Mishu</td>\n",
              "      <td>Female</td>\n",
              "      <td>20-30</td>\n",
              "      <td>Town</td>\n",
              "      <td>Student</td>\n",
              "      <td>yes</td>\n",
              "      <td>Plant</td>\n",
              "    </tr>\n",
              "  </tbody>\n",
              "</table>\n",
              "</div>"
            ],
            "text/plain": [
              "             Timestamp  ... Which would you like to decorate?\n",
              "0  28/03/2021 20:18:58  ...                   Flowering plant\n",
              "1  28/03/2021 20:26:22  ...                            shrubs\n",
              "2  28/03/2021 20:28:42  ...                   Flowering plant\n",
              "3  28/03/2021 20:29:23  ...                   Flowering plant\n",
              "4  28/03/2021 21:05:52  ...                             Plant\n",
              "\n",
              "[5 rows x 8 columns]"
            ]
          },
          "metadata": {
            "tags": []
          },
          "execution_count": 5
        }
      ]
    },
    {
      "cell_type": "markdown",
      "metadata": {
        "id": "A6PTBESOxO07"
      },
      "source": [
        "Show shape"
      ]
    },
    {
      "cell_type": "code",
      "metadata": {
        "colab": {
          "base_uri": "https://localhost:8080/"
        },
        "id": "TXzdMnkTxSed",
        "outputId": "e9129cde-9391-4475-cc6a-0a1608fc0918"
      },
      "source": [
        "wtmoc.shape"
      ],
      "execution_count": 6,
      "outputs": [
        {
          "output_type": "execute_result",
          "data": {
            "text/plain": [
              "(999, 8)"
            ]
          },
          "metadata": {
            "tags": []
          },
          "execution_count": 6
        }
      ]
    },
    {
      "cell_type": "markdown",
      "metadata": {
        "id": "AaIks4oZxcV1"
      },
      "source": [
        "Show All Information with missing Value"
      ]
    },
    {
      "cell_type": "code",
      "metadata": {
        "colab": {
          "base_uri": "https://localhost:8080/"
        },
        "id": "YGDKDA2GxdFz",
        "outputId": "60d5ac93-e21b-4c92-b9a2-87df263f207e"
      },
      "source": [
        "wtmoc.info()"
      ],
      "execution_count": 7,
      "outputs": [
        {
          "output_type": "stream",
          "text": [
            "<class 'pandas.core.frame.DataFrame'>\n",
            "RangeIndex: 999 entries, 0 to 998\n",
            "Data columns (total 8 columns):\n",
            " #   Column                                                                                                 Non-Null Count  Dtype \n",
            "---  ------                                                                                                 --------------  ----- \n",
            " 0   Timestamp                                                                                              29 non-null     object\n",
            " 1   Name                                                                                                   999 non-null    object\n",
            " 2   Gender                                                                                                 999 non-null    object\n",
            " 3   How old are you?                                                                                       999 non-null    object\n",
            " 4   Where do you living?                                                                                   998 non-null    object\n",
            " 5   What is your profession?                                                                               999 non-null    object\n",
            " 6   Are you willing to decorate your building or apartment with natural equipment like shrubs and plants?  998 non-null    object\n",
            " 7   Which would you like to decorate?                                                                      870 non-null    object\n",
            "dtypes: object(8)\n",
            "memory usage: 62.6+ KB\n"
          ],
          "name": "stdout"
        }
      ]
    },
    {
      "cell_type": "markdown",
      "metadata": {
        "id": "XmDufHEKxvoz"
      },
      "source": [
        "Show Null Value"
      ]
    },
    {
      "cell_type": "code",
      "metadata": {
        "colab": {
          "base_uri": "https://localhost:8080/"
        },
        "id": "F3eWdSzyxyJT",
        "outputId": "b7547ea2-4b19-41fb-ea1a-011a4946e3db"
      },
      "source": [
        "wtmoc.isnull().sum()"
      ],
      "execution_count": 8,
      "outputs": [
        {
          "output_type": "execute_result",
          "data": {
            "text/plain": [
              "Timestamp                                                                                                970\n",
              "Name                                                                                                       0\n",
              "Gender                                                                                                     0\n",
              "How old are you?                                                                                           0\n",
              "Where do you living?                                                                                       1\n",
              "What is your profession?                                                                                   0\n",
              "Are you willing to decorate your building or apartment with natural equipment like shrubs and plants?      1\n",
              "Which would you like to decorate?                                                                        129\n",
              "dtype: int64"
            ]
          },
          "metadata": {
            "tags": []
          },
          "execution_count": 8
        }
      ]
    },
    {
      "cell_type": "markdown",
      "metadata": {
        "id": "VI4gKbz9x7_7"
      },
      "source": [
        "Import library for data visualization"
      ]
    },
    {
      "cell_type": "code",
      "metadata": {
        "id": "gg7MbGFAx8pr"
      },
      "source": [
        "\n",
        "import matplotlib.pyplot as plt\n",
        "%matplotlib inline\n",
        "import seaborn as sns\n",
        "sns.set()"
      ],
      "execution_count": 9,
      "outputs": []
    },
    {
      "cell_type": "markdown",
      "metadata": {
        "id": "QyzJMnU-yFo0"
      },
      "source": [
        "** Create a function to see the graph**"
      ]
    },
    {
      "cell_type": "code",
      "metadata": {
        "id": "Pbvdctbv3uei"
      },
      "source": [
        "def bar_chart(feature):\n",
        "  "
      ],
      "execution_count": null,
      "outputs": []
    }
  ]
}